import numpy as np
import pandas as pd 
import matplotlib.pyplot as plt

dataset1=pd.read_csv("Ecommerce Customers.csv")

dataset1.head()

dataset1.drop(["Email","Address","Avatar"],axis=1,inplace=True)
dataset1



from sklearn.linear_model import LinearRegression
from sklearn import preprocessing

label_encoder = preprocessing.LabelEncoder()

dataset1['Gender'] = label_encoder.fit_transform(dataset1['Gender'])



dataset1.values

x=dataset1.iloc[:,0:6]
x

y=dataset1.iloc[:,6]
y



from sklearn.model_selection import train_test_split

x_train,x_test,y_train,y_test=train_test_split(x,y,test_size=0.2,random_state=0)

x_train.head()

y_train.head()




mlr = LinearRegression()
mlr.fit(x_train,y_train)

y_pred=mlr.predict(x_test)
y_pred

mlr.intercept_

mlr.coef_





x_train.shape

pre=mlr.predict([[31,20,31,32,0,0]])
pre

dataset1.corr()


from sklearn.metrics import r2_score
r2_score(y_test,y_pred)

